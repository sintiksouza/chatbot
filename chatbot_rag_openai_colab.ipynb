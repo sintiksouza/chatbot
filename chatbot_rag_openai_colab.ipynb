
# Chatbot com LangChain + OpenAI + FAISS + PDFs (Simulado)

```python
# Instalar as bibliotecas necessárias (roda no Colab)
!pip install langchain openai faiss-cpu sentence-transformers PyPDF2
```

## 1. Importar bibliotecas e definir a chave da OpenAI

```python
import os
from langchain.chat_models import ChatOpenAI
from langchain.document_loaders import TextLoader
from langchain.text_splitter import RecursiveCharacterTextSplitter
from langchain.vectorstores import FAISS
from langchain.embeddings import HuggingFaceEmbeddings
from langchain.chains import RetrievalQA

# Defina sua chave com segurança aqui (NÃO compartilhe)
os.environ["OPENAI_API_KEY"] = "sua-chave-aqui"

# Inicializa o modelo GPT-3.5 via API
llm = ChatOpenAI(model_name="gpt-3.5-turbo")
```

## 2. Carregar o texto (simulando PDF)

```python
loader = TextLoader("/content/embrapa_simulado.txt")
docs = loader.load()

# Dividir em chunks
splitter = RecursiveCharacterTextSplitter(chunk_size=500, chunk_overlap=50)
chunks = splitter.split_documents(docs)
```

## 3. Gerar embeddings e indexar com FAISS

```python
embeddings = HuggingFaceEmbeddings(model_name="all-MiniLM-L6-v2")
vectorstore = FAISS.from_documents(chunks, embeddings)
retriever = vectorstore.as_retriever()
```

## 4. Montar a cadeia RetrievalQA

```python
qa = RetrievalQA.from_chain_type(llm=llm, retriever=retriever)
```

## 5. Fazer perguntas

```python
resposta = qa.run("Como deve ser feita a irrigação da soja?")
print("Resposta:", resposta)
```
